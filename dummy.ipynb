{
 "cells": [
  {
   "cell_type": "code",
   "execution_count": null,
   "id": "97ad6121",
   "metadata": {},
   "outputs": [],
   "source": [
    "def get_1024():\n",
    "    i = 0\n",
    "    print(\"Debug help.\")\n",
    "    with open(\"corpus-webis-tldr-17.json\", 'r') as file:\n",
    "        print(\"Opened file.\")\n",
    "        for line in file:\n",
    "            print(line)\n",
    "            i += 1\n",
    "            if i == 1024:\n",
    "                return"
   ]
  }
 ],
 "metadata": {
  "kernelspec": {
   "display_name": "Python 3 (ipykernel)",
   "language": "python",
   "name": "python3"
  },
  "language_info": {
   "codemirror_mode": {
    "name": "ipython",
    "version": 3
   },
   "file_extension": ".py",
   "mimetype": "text/x-python",
   "name": "python",
   "nbconvert_exporter": "python",
   "pygments_lexer": "ipython3",
   "version": "3.11.4"
  }
 },
 "nbformat": 4,
 "nbformat_minor": 5
}
